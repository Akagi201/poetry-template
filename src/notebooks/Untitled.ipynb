{
 "cells": [
  {
   "cell_type": "code",
   "execution_count": 1,
   "id": "ac271548-aa3d-42b3-8ba4-ff22369b3f13",
   "metadata": {
    "tags": []
   },
   "outputs": [
    {
     "ename": "ModuleNotFoundError",
     "evalue": "No module named 'lib'",
     "output_type": "error",
     "traceback": [
      "\u001b[0;31m---------------------------------------------------------------------------\u001b[0m",
      "\u001b[0;31mModuleNotFoundError\u001b[0m                       Traceback (most recent call last)",
      "Cell \u001b[0;32mIn[1], line 1\u001b[0m\n\u001b[0;32m----> 1\u001b[0m \u001b[38;5;28;01mfrom\u001b[39;00m \u001b[38;5;21;01mlib\u001b[39;00m\u001b[38;5;21;01m.\u001b[39;00m\u001b[38;5;21;01mapp\u001b[39;00m \u001b[38;5;28;01mimport\u001b[39;00m SampleApp\n\u001b[1;32m      2\u001b[0m app \u001b[38;5;241m=\u001b[39m SampleApp(\u001b[38;5;241m100\u001b[39m)\n\u001b[1;32m      3\u001b[0m app\u001b[38;5;241m.\u001b[39mdummy_value\n",
      "\u001b[0;31mModuleNotFoundError\u001b[0m: No module named 'lib'"
     ]
    }
   ],
   "source": [
    "from lib.app import SampleApp\n",
    "app = SampleApp(100)\n",
    "app.dummy_value"
   ]
  },
  {
   "cell_type": "code",
   "execution_count": null,
   "id": "42dd7cf6-b347-41f9-bd36-d5fb7c869585",
   "metadata": {},
   "outputs": [],
   "source": []
  }
 ],
 "metadata": {
  "kernelspec": {
   "display_name": "Python 3 (ipykernel)",
   "language": "python",
   "name": "python3"
  },
  "language_info": {
   "codemirror_mode": {
    "name": "ipython",
    "version": 3
   },
   "file_extension": ".py",
   "mimetype": "text/x-python",
   "name": "python",
   "nbconvert_exporter": "python",
   "pygments_lexer": "ipython3",
   "version": "3.11.3"
  }
 },
 "nbformat": 4,
 "nbformat_minor": 5
}
